{
  "nbformat": 4,
  "nbformat_minor": 0,
  "metadata": {
    "colab": {
      "name": "Palladium Price Prediction.ipynb",
      "provenance": [],
      "collapsed_sections": [],
      "toc_visible": true,
      "authorship_tag": "ABX9TyOVgl9GyPXPddETuhwS0mC7",
      "include_colab_link": true
    },
    "kernelspec": {
      "name": "python3",
      "display_name": "Python 3"
    },
    "language_info": {
      "name": "python"
    }
  },
  "cells": [
    {
      "cell_type": "markdown",
      "metadata": {
        "id": "view-in-github",
        "colab_type": "text"
      },
      "source": [
        "<a href=\"https://colab.research.google.com/github/jlin157/Palladium-price-prediction/blob/main/Palladium_Price_Prediction.ipynb\" target=\"_parent\"><img src=\"https://colab.research.google.com/assets/colab-badge.svg\" alt=\"Open In Colab\"/></a>"
      ]
    },
    {
      "cell_type": "code",
      "metadata": {
        "colab": {
          "base_uri": "https://localhost:8080/"
        },
        "id": "-ZuKIK88vrCT",
        "outputId": "b276581c-226a-44b0-e3c5-f7b8fcb4eac3"
      },
      "source": [
        "import pandas as pd\n",
        "import numpy as np\n",
        "import matplotlib.pyplot as plt\n",
        "import warnings\n",
        "%pylab inline \n",
        "warnings.filterwarnings(\"ignore\")\n",
        "import seaborn\n",
        "from sklearn.preprocessing import MinMaxScaler\n",
        "from keras.models import Sequential\n",
        "from keras.layers import Dense,LSTM,Dropout\n",
        "from sklearn.tree import DecisionTreeRegressor\n",
        "from sklearn.linear_model import LinearRegression\n",
        "from sklearn.model_selection import train_test_split"
      ],
      "execution_count": 113,
      "outputs": [
        {
          "output_type": "stream",
          "text": [
            "Populating the interactive namespace from numpy and matplotlib\n"
          ],
          "name": "stdout"
        }
      ]
    },
    {
      "cell_type": "code",
      "metadata": {
        "colab": {
          "base_uri": "https://localhost:8080/",
          "height": 227
        },
        "id": "NAqL4BmcwHzz",
        "outputId": "413b4588-4b6f-46b0-963f-86e240eeb619"
      },
      "source": [
        "df_palladium = pd.read_csv(r'palladium-prices-historical-chart-data.csv',index_col=0,parse_dates=True)['1986/1/2':'2021/4/19']\n",
        "df_palladium.index.names = ['Date']\n",
        "df_palladium.columns = ['Palladium Index']\n",
        "df_palladium.head()"
      ],
      "execution_count": 114,
      "outputs": [
        {
          "output_type": "execute_result",
          "data": {
            "text/html": [
              "<div>\n",
              "<style scoped>\n",
              "    .dataframe tbody tr th:only-of-type {\n",
              "        vertical-align: middle;\n",
              "    }\n",
              "\n",
              "    .dataframe tbody tr th {\n",
              "        vertical-align: top;\n",
              "    }\n",
              "\n",
              "    .dataframe thead th {\n",
              "        text-align: right;\n",
              "    }\n",
              "</style>\n",
              "<table border=\"1\" class=\"dataframe\">\n",
              "  <thead>\n",
              "    <tr style=\"text-align: right;\">\n",
              "      <th></th>\n",
              "      <th>Palladium Index</th>\n",
              "    </tr>\n",
              "    <tr>\n",
              "      <th>Date</th>\n",
              "      <th></th>\n",
              "    </tr>\n",
              "  </thead>\n",
              "  <tbody>\n",
              "    <tr>\n",
              "      <th>1986-01-02</th>\n",
              "      <td>96.00</td>\n",
              "    </tr>\n",
              "    <tr>\n",
              "      <th>1986-01-03</th>\n",
              "      <td>96.05</td>\n",
              "    </tr>\n",
              "    <tr>\n",
              "      <th>1986-01-06</th>\n",
              "      <td>98.05</td>\n",
              "    </tr>\n",
              "    <tr>\n",
              "      <th>1986-01-07</th>\n",
              "      <td>100.50</td>\n",
              "    </tr>\n",
              "    <tr>\n",
              "      <th>1986-01-08</th>\n",
              "      <td>101.50</td>\n",
              "    </tr>\n",
              "  </tbody>\n",
              "</table>\n",
              "</div>"
            ],
            "text/plain": [
              "            Palladium Index\n",
              "Date                       \n",
              "1986-01-02            96.00\n",
              "1986-01-03            96.05\n",
              "1986-01-06            98.05\n",
              "1986-01-07           100.50\n",
              "1986-01-08           101.50"
            ]
          },
          "metadata": {
            "tags": []
          },
          "execution_count": 114
        }
      ]
    },
    {
      "cell_type": "markdown",
      "metadata": {
        "id": "G1BUEjE5pLL0"
      },
      "source": [
        "# Correlation Analysis"
      ]
    },
    {
      "cell_type": "code",
      "metadata": {
        "id": "DwZvhOPvwJAE"
      },
      "source": [
        "df_WTI = pd.read_csv(r'DCOILWTICO.csv',index_col=0,parse_dates=True)['1986-01-02':'2021-04-19']\n",
        "df_WTI.index.names = ['Date']\n",
        "df_WTI.columns = ['WTI_Crude_Oil_Index']\n",
        "df_WTI['WTI_Crude_Oil_Index'] = df_WTI['WTI_Crude_Oil_Index'].replace('.', None)\n",
        "df_WTI['WTI_Crude_Oil_Index'] = df_WTI['WTI_Crude_Oil_Index'].astype(float)"
      ],
      "execution_count": 115,
      "outputs": []
    },
    {
      "cell_type": "code",
      "metadata": {
        "id": "E19WS16d_DlM"
      },
      "source": [
        "df_pla = pd.read_csv(r'platinum-prices-historical-chart-data.csv',index_col=0,parse_dates=True)['1986/1/2':'2021/4/19']\n",
        "df_pla.index.names = ['Date']\n",
        "df_pla.columns = ['Platinum Index']\n",
        "df_pla['Platinum Index'] = df_pla['Platinum Index'].astype(float)\n",
        "df_pla.index = pd.to_datetime(df_pla.index)"
      ],
      "execution_count": 116,
      "outputs": []
    },
    {
      "cell_type": "code",
      "metadata": {
        "id": "g5wLi7oHS0xY"
      },
      "source": [
        "df_nik = pd.read_excel(r'PNICKUSDM.xls',index_col=0,parse_dates=True)['1986/1/2':'2021/4/19']\n",
        "df_nik.index.names = ['Date']\n",
        "df_nik.columns = ['Nickel Index']\n",
        "#df_nik['Platinum Index'] = df_nik['Platinum Index'].astype(float)\n",
        "#df_nik.index = pd.to_datetime(df_nik.index)"
      ],
      "execution_count": 117,
      "outputs": []
    },
    {
      "cell_type": "code",
      "metadata": {
        "id": "1RrQxLnrU1WW"
      },
      "source": [
        "df_veh=pd.read_excel(r'Motor Vehicle Production.xlsx',index_col=0,parse_dates=True)[::-1]\n",
        "df_veh.index.names = ['Date']\n",
        "df_veh.columns = ['World Vechicle Production']\n",
        "df_veh.index=df_veh.index.strftime('%Y')"
      ],
      "execution_count": 118,
      "outputs": []
    },
    {
      "cell_type": "code",
      "metadata": {
        "id": "5zhMKNoj4UcL"
      },
      "source": [
        "fig, axs = plt.subplots(2,2,figsize=(18,21))\n",
        "axs[0,0].plot(df_palladium)\n",
        "axs[0,0].title.set_text('Palladium Index')\n",
        "axs[0,0].set_xlabel('year')\n",
        "axs[0,0].set_ylabel('price per ounce')\n",
        "axs[0,1].plot(df_pla)\n",
        "axs[0,1].title.set_text('Platinum Index')\n",
        "axs[0,1].set_xlabel('year')\n",
        "axs[0,1].set_ylabel('price per ounce')\n",
        "axs[1,0].plot(df_nik)\n",
        "axs[1,0].title.set_text('Nickel Index')\n",
        "axs[1,0].set_xlabel('year')\n",
        "axs[1,0].set_ylabel('price per tonne')\n",
        "axs[1,1].plot(df_veh)\n",
        "axs[1,1].title.set_text('World Vechicle Production')"
      ],
      "execution_count": null,
      "outputs": []
    },
    {
      "cell_type": "code",
      "metadata": {
        "id": "tnlb3Yxvw7-u"
      },
      "source": [
        "dfs = pd.merge(df_palladium, df_pla, on=\"Date\")\n",
        "dfs = pd.merge(dfs, df_nik, on='Date')\n",
        "precrisis=dfs[:'2008-01-01']\n",
        "postcrisis=dfs['2008-01-01':]"
      ],
      "execution_count": 119,
      "outputs": []
    },
    {
      "cell_type": "code",
      "metadata": {
        "id": "4qAEci8Ir0m-"
      },
      "source": [
        "corr_df = precrisis.corr(method='pearson')\n",
        "print(corr_df)\n",
        "mask = np.zeros_like(corr_df)\n",
        "mask[np.triu_indices_from(mask)] = True\n",
        "seaborn.heatmap(corr_df, cmap='RdYlGn', vmax=1.0, vmin=-1.0 , mask = mask, linewidths=2.5)\n",
        "plt.yticks(rotation=0) \n",
        "plt.xticks(rotation=90) \n",
        "plt.show()"
      ],
      "execution_count": null,
      "outputs": []
    },
    {
      "cell_type": "code",
      "metadata": {
        "id": "akog0KWFsH0g"
      },
      "source": [
        "corr_df = postcrisis.corr(method='pearson')\n",
        "print(corr_df)\n",
        "mask = np.zeros_like(corr_df)\n",
        "mask[np.triu_indices_from(mask)] = True\n",
        "seaborn.heatmap(corr_df, cmap='RdYlGn', vmax=1.0, vmin=-1.0 , mask = mask, linewidths=2.5)\n",
        "plt.yticks(rotation=0) \n",
        "plt.xticks(rotation=90) \n",
        "plt.show()"
      ],
      "execution_count": null,
      "outputs": []
    },
    {
      "cell_type": "code",
      "metadata": {
        "id": "qHFTdrLz-BDK"
      },
      "source": [
        "df_annualprice=df_palladium.groupby(df_palladium.index.year)['Palladium Index'].transform('mean')\n",
        "df_annualprice=df_annualprice.to_frame()\n",
        "df_annualprice.index=df_annualprice.index.strftime('%Y')\n",
        "df_annualprice=df_annualprice.drop_duplicates()\n",
        "df_annualprice.head()"
      ],
      "execution_count": null,
      "outputs": []
    },
    {
      "cell_type": "code",
      "metadata": {
        "id": "--s1PGKUWThP"
      },
      "source": [
        "df_vehpalla = pd.merge(df_annualprice, df_veh, on='Date')\n",
        "corr2_df = df_vehpalla[:'2017'].corr(method='pearson')\n",
        "print(corr2_df)\n",
        "mask = np.zeros_like(corr2_df)\n",
        "mask[np.triu_indices_from(mask)] = True\n",
        "seaborn.heatmap(corr2_df, cmap='RdYlGn', vmax=1.0, vmin=-1.0 , mask = mask, linewidths=2.5)\n",
        "plt.yticks(rotation=0) \n",
        "plt.xticks(rotation=90) \n",
        "plt.title('Correlation pior 2017', color='green',fontsize=14)\n",
        "plt.show()"
      ],
      "execution_count": null,
      "outputs": []
    },
    {
      "cell_type": "code",
      "metadata": {
        "id": "cLfeTL1IzlAD"
      },
      "source": [
        "corr2_df = df_vehpalla['2017':].corr(method='pearson')\n",
        "print(corr2_df)\n",
        "mask = np.zeros_like(corr2_df)\n",
        "mask[np.triu_indices_from(mask)] = True\n",
        "seaborn.heatmap(corr2_df, cmap='RdYlGn', vmax=1.0, vmin=-1.0 , mask = mask, linewidths=2.5)\n",
        "plt.yticks(rotation=0) \n",
        "plt.xticks(rotation=90) \n",
        "plt.title('Correlation after 2017', color='red',fontsize=14)\n",
        "plt.show()"
      ],
      "execution_count": null,
      "outputs": []
    },
    {
      "cell_type": "markdown",
      "metadata": {
        "id": "wsWynoKjarPJ"
      },
      "source": [
        "#Segmental Regression"
      ]
    },
    {
      "cell_type": "code",
      "metadata": {
        "id": "9dWjLwWCbt3l"
      },
      "source": [
        "from scipy import optimize\n",
        "from datetime import date"
      ],
      "execution_count": 106,
      "outputs": []
    },
    {
      "cell_type": "code",
      "metadata": {
        "id": "KCihCg5Lauau"
      },
      "source": [
        "x=np.array([float(i) for i in df_veh.index])\n",
        "y=np.array(df_veh['World Vechicle Production'])"
      ],
      "execution_count": 107,
      "outputs": []
    },
    {
      "cell_type": "code",
      "metadata": {
        "colab": {
          "base_uri": "https://localhost:8080/",
          "height": 606
        },
        "id": "A4Ijn7FqbVsu",
        "outputId": "90c49900-69a1-4125-e874-a5a9a8bc77df"
      },
      "source": [
        "# parameters for setup\n",
        "n_data = 33\n",
        "\n",
        "# segmented linear regression parameters\n",
        "n_seg = 2\n",
        "\n",
        "np.random.seed(0)\n",
        "fig, (ax0, ax1) = plt.subplots(1, 2,figsize=(16,10))\n",
        "\n",
        "ys=y\n",
        "xs=np.array([int(i) for i in x])\n",
        "\n",
        "dys = np.gradient(ys, xs)\n",
        "\n",
        "rgr = DecisionTreeRegressor(max_leaf_nodes=n_seg)\n",
        "rgr.fit(xs.reshape(-1, 1), dys.reshape(-1, 1))\n",
        "dys_dt = rgr.predict(xs.reshape(-1, 1)).flatten()\n",
        "\n",
        "ys_sl = np.ones(len(xs)) * np.nan\n",
        "for y in np.unique(dys_dt):\n",
        "    msk = dys_dt == y\n",
        "    lin_reg = LinearRegression()\n",
        "    lin_reg.fit(xs[msk].reshape(-1, 1), ys[msk].reshape(-1, 1))\n",
        "    ys_sl[msk] = lin_reg.predict(xs[msk].reshape(-1, 1)).flatten()\n",
        "    ax0.plot([xs[msk][0], xs[msk][-1]],\n",
        "             [ys_sl[msk][0], ys_sl[msk][-1]],\n",
        "             color='r', zorder=1)\n",
        "\n",
        "ax0.set_title('values')\n",
        "ax0.scatter(xs, ys, label='data')\n",
        "ax0.scatter(xs, ys_sl, s=3**2, label='seg lin reg', color='g', zorder=5)\n",
        "ax0.legend()\n",
        "\n",
        "ax1.set_title('slope')\n",
        "ax1.scatter(xs, dys, label='data')\n",
        "ax1.scatter(xs, dys_dt, label='DecisionTree', s=2**2)\n",
        "ax1.legend()\n",
        "\n",
        "plt.show()"
      ],
      "execution_count": 108,
      "outputs": [
        {
          "output_type": "display_data",
          "data": {
            "image/png": "[encoded data removed]",
            "text/plain": [
              "<Figure size 1152x720 with 2 Axes>"
            ]
          },
          "metadata": {
            "tags": [],
            "needs_background": "light"
          }
        }
      ]
    },
    {
      "cell_type": "code",
      "metadata": {
        "id": "qXEduF8rb4_p"
      },
      "source": [
        "def segments_fit(X, Y, count):\n",
        "    xmin = X.min()\n",
        "    xmax = X.max()\n",
        "\n",
        "    seg = np.full(count - 1, (xmax - xmin) / count)\n",
        "\n",
        "    px_init = np.r_[np.r_[xmin, seg].cumsum(), xmax]\n",
        "    py_init = np.array([Y[np.abs(X - x) < (xmax - xmin) * 0.01].mean() for x in px_init])\n",
        "\n",
        "    def func(p):\n",
        "        seg = p[:count - 1]\n",
        "        py = p[count - 1:]\n",
        "        px = np.r_[np.r_[xmin, seg].cumsum(), xmax]\n",
        "        return px, py\n",
        "\n",
        "    def err(p):\n",
        "        px, py = func(p)\n",
        "        Y2 = np.interp(X, px, py)\n",
        "        return np.mean((Y - Y2)**2)\n",
        "\n",
        "    r = optimize.minimize(err, x0=np.r_[seg, py_init], method='Nelder-Mead')\n",
        "    return func(r.x)"
      ],
      "execution_count": 109,
      "outputs": []
    },
    {
      "cell_type": "code",
      "metadata": {
        "id": "DZWK9oLrg1U6",
        "colab": {
          "base_uri": "https://localhost:8080/"
        },
        "outputId": "fc6721a8-b7c7-4cb5-c6f5-14ea3a1d1f51"
      },
      "source": [
        "y=np.array(df_annualprice['Palladium Index'][14:-1])\n",
        "x=np.array(df_veh['World Vechicle Production'][12:])\n",
        "\n",
        "px, py = segments_fit(x, y, 1) #World Vehicle\n",
        "print(px,py)"
      ],
      "execution_count": 111,
      "outputs": [
        {
          "output_type": "stream",
          "text": [
            "[56304925. 97302534.] [ 329.59043421 1002.19124121]\n"
          ],
          "name": "stdout"
        }
      ]
    },
    {
      "cell_type": "code",
      "metadata": {
        "colab": {
          "base_uri": "https://localhost:8080/",
          "height": 717
        },
        "id": "Ue9EDU9xdXja",
        "outputId": "38041ebc-858b-4014-d16a-c37c4af83eb0"
      },
      "source": [
        "fig,ax = plt.subplots(1,figsize=(16,12))\n",
        "ax.plot(x, y, \".\")\n",
        "ax.plot(px, py, \"-or\")\n",
        "ax.set_ylabel(\"Palladium Index\",fontsize=14)\n",
        "ax.set_xlabel(\"Vehicle Production\",color=\"red\",fontsize=14)\n",
        "plt.show()"
      ],
      "execution_count": 112,
      "outputs": [
        {
          "output_type": "display_data",
          "data": {
            "image/png": "[encoded data removed]",
            "text/plain": [
              "<Figure size 1152x864 with 1 Axes>"
            ]
          },
          "metadata": {
            "tags": [],
            "needs_background": "light"
          }
        }
      ]
    },
    {
      "cell_type": "markdown",
      "metadata": {
        "id": "iwBYie43dw8H"
      },
      "source": [
        "#LSTM"
      ]
    },
    {
      "cell_type": "code",
      "metadata": {
        "id": "Ia3E0uUcg45a"
      },
      "source": [
        "dataset=df_palladium.values\n",
        "traininglength=math.ceil(len(dataset)*0.8)"
      ],
      "execution_count": 121,
      "outputs": []
    },
    {
      "cell_type": "code",
      "metadata": {
        "id": "BzQdtLdLg-FM"
      },
      "source": [
        "scalar=MinMaxScaler(feature_range=(0,1))\n",
        "scaled_data=scalar.fit_transform(dataset)"
      ],
      "execution_count": 122,
      "outputs": []
    },
    {
      "cell_type": "code",
      "metadata": {
        "id": "UupE5GSthrh4"
      },
      "source": [
        "train_data=scaled_data[0:traininglength,:]\n",
        "x_train=[]\n",
        "y_train=[]\n",
        "\n",
        "for i in range(60,len(train_data)):\n",
        "  x_train.append(train_data[i-60:i,0])\n",
        "  y_train.append(train_data[i,0])"
      ],
      "execution_count": 123,
      "outputs": []
    },
    {
      "cell_type": "code",
      "metadata": {
        "id": "oWAGYmtQinlK"
      },
      "source": [
        "x_train,y_train=np.array(x_train),np.array(y_train)"
      ],
      "execution_count": 21,
      "outputs": []
    },
    {
      "cell_type": "code",
      "metadata": {
        "colab": {
          "base_uri": "https://localhost:8080/"
        },
        "id": "7GsHCyeHjBRO",
        "outputId": "2840f50b-ce6d-4eff-ca3d-6c515f04e137"
      },
      "source": [
        "x_train=np.reshape(x_train,(x_train.shape[0],x_train.shape[1],1))\n",
        "x_train.shape #converted 2D to 3D"
      ],
      "execution_count": 22,
      "outputs": [
        {
          "output_type": "execute_result",
          "data": {
            "text/plain": [
              "(7052, 60, 1)"
            ]
          },
          "metadata": {
            "tags": []
          },
          "execution_count": 22
        }
      ]
    },
    {
      "cell_type": "markdown",
      "metadata": {
        "id": "poDVKYM_jWIE"
      },
      "source": [
        "LSTM"
      ]
    },
    {
      "cell_type": "code",
      "metadata": {
        "id": "3Rrdb8tBjCOZ"
      },
      "source": [
        "model=Sequential()\n",
        "model.add(LSTM(50,return_sequences=True,input_shape=(x_train.shape[1],1)))\n",
        "\n",
        "model.add(LSTM(50,return_sequences=False))\n",
        "\n",
        "model.add(Dense(25))\n",
        "model.add(Dense(1))\n",
        "\n",
        "model.compile(optimizer='adam',loss='mean_squared_error')"
      ],
      "execution_count": 23,
      "outputs": []
    },
    {
      "cell_type": "code",
      "metadata": {
        "colab": {
          "base_uri": "https://localhost:8080/"
        },
        "id": "_FW16c32kjbm",
        "outputId": "a9b6d851-01fd-4d62-9d5a-0abb58064272"
      },
      "source": [
        "#Train\n",
        "model.fit(x_train,y_train,batch_size=1,epochs=1)"
      ],
      "execution_count": 24,
      "outputs": [
        {
          "output_type": "stream",
          "text": [
            "7052/7052 [==============================] - 189s 26ms/step - loss: 2.4816e-04\n"
          ],
          "name": "stdout"
        },
        {
          "output_type": "execute_result",
          "data": {
            "text/plain": [
              "<tensorflow.python.keras.callbacks.History at 0x7f07f8755d50>"
            ]
          },
          "metadata": {
            "tags": []
          },
          "execution_count": 24
        }
      ]
    },
    {
      "cell_type": "code",
      "metadata": {
        "id": "4tR-A8z5kql_"
      },
      "source": [
        "#Test\n",
        "#Create Test Validate set\n",
        "test_data=scaled_data[traininglength-60:,:]\n",
        "x_test=[]\n",
        "y_test=dataset[traininglength:,:]\n",
        "for i in range(60,len(test_data)):\n",
        "  x_test.append(test_data[i-60:i,0])"
      ],
      "execution_count": 25,
      "outputs": []
    },
    {
      "cell_type": "code",
      "metadata": {
        "colab": {
          "base_uri": "https://localhost:8080/"
        },
        "id": "wLYQhioYlenn",
        "outputId": "42391285-d1bb-4bff-ccfd-1cff026ba37c"
      },
      "source": [
        "#LSTM only take numpy array\n",
        "x_test=np.array(x_test)"
      ],
      "execution_count": 26,
      "outputs": [
        {
          "output_type": "execute_result",
          "data": {
            "text/plain": [
              "(1778, 60)"
            ]
          },
          "metadata": {
            "tags": []
          },
          "execution_count": 26
        }
      ]
    },
    {
      "cell_type": "code",
      "metadata": {
        "colab": {
          "base_uri": "https://localhost:8080/"
        },
        "id": "CHFPyuu6lhk8",
        "outputId": "8ca02b27-22db-4451-ef98-f4085872a1ba"
      },
      "source": [
        "#LSTM expecting 3D \n",
        "x_test=np.reshape(x_test,(x_test.shape[0],x_test.shape[1],1))"
      ],
      "execution_count": 27,
      "outputs": [
        {
          "output_type": "execute_result",
          "data": {
            "text/plain": [
              "(1778, 60, 1)"
            ]
          },
          "metadata": {
            "tags": []
          },
          "execution_count": 27
        }
      ]
    },
    {
      "cell_type": "code",
      "metadata": {
        "id": "_T8Dx38Ql7sx"
      },
      "source": [
        "predictions=model.predict(x_test)\n",
        "predictions=scalar.inverse_transform(predictions)"
      ],
      "execution_count": 28,
      "outputs": []
    },
    {
      "cell_type": "code",
      "metadata": {
        "colab": {
          "base_uri": "https://localhost:8080/"
        },
        "id": "moM4TDoqmUmj",
        "outputId": "077d1d76-3cdc-4494-b09a-6e3deecfb9b3"
      },
      "source": [
        "#see how the model performed\n",
        "rmse=np.sqrt(np.mean(((predictions- y_test)**2)))\n",
        "rmse"
      ],
      "execution_count": 29,
      "outputs": [
        {
          "output_type": "execute_result",
          "data": {
            "text/plain": [
              "47.051377309647165"
            ]
          },
          "metadata": {
            "tags": []
          },
          "execution_count": 29
        }
      ]
    },
    {
      "cell_type": "code",
      "metadata": {
        "colab": {
          "base_uri": "https://localhost:8080/"
        },
        "id": "E3mXqJlRmk9O",
        "outputId": "ca3d82b1-3ae4-4e1d-b7c2-8df12e1f5fff"
      },
      "source": [
        "from sklearn.metrics import r2_score\n",
        "r2_score(y_test, predictions)"
      ],
      "execution_count": 30,
      "outputs": [
        {
          "output_type": "execute_result",
          "data": {
            "text/plain": [
              "0.9937027706441661"
            ]
          },
          "metadata": {
            "tags": []
          },
          "execution_count": 30
        }
      ]
    },
    {
      "cell_type": "code",
      "metadata": {
        "colab": {
          "base_uri": "https://localhost:8080/",
          "height": 535
        },
        "id": "6CsFOIQ4m2Dv",
        "outputId": "b64fb602-1adc-4700-8661-441d8746607e"
      },
      "source": [
        "#plot the data\n",
        "train=df_palladium[:traininglength]\n",
        "valid=df_palladium[traininglength:]\n",
        "valid['Predictions']=predictions\n",
        "plt.figure(figsize=(16,8))\n",
        "plt.plot(train)\n",
        "plt.plot(valid)\n",
        "plt.xlabel(\"year\",color=\"green\",fontsize=14)\n",
        "plt.ylabel('Palladium Price',color=\"green\",fontsize=14)\n",
        "plt.title('Rolling Palladium Price Prediction - LSTM Model',color=\"green\",fontsize=14)\n",
        "plt.legend(['Train','Test','Predictions'],loc='lower right')"
      ],
      "execution_count": 31,
      "outputs": [
        {
          "output_type": "execute_result",
          "data": {
            "text/plain": [
              "<matplotlib.legend.Legend at 0x7f07f871e6d0>"
            ]
          },
          "metadata": {
            "tags": []
          },
          "execution_count": 31
        },
        {
          "output_type": "display_data",
          "data": {
            "image/png": "[encoded data removed]",
            "text/plain": [
              "<Figure size 1152x576 with 1 Axes>"
            ]
          },
          "metadata": {
            "tags": [],
            "needs_background": "light"
          }
        }
      ]
    },
    {
      "cell_type": "markdown",
      "metadata": {
        "id": "SYWjEl0a5gb8"
      },
      "source": [
        "Try predict future"
      ]
    },
    {
      "cell_type": "code",
      "metadata": {
        "id": "30E-l_4otC2G"
      },
      "source": [
        "#predictions of next 10 days\n",
        "future_price=[]\n",
        "for i in range(10):\n",
        "  x_future=[scaled_data[-60:]]\n",
        "  x_future=np.array(x_future)\n",
        "  x_future=np.reshape(x_future,(x_future.shape[0],x_future.shape[1],1))\n",
        "  \n",
        "  predictions=model.predict(x_future)\n",
        "  scaled_data=np.append(scaled_data,[predictions])\n",
        "\n",
        "  predictions=scalar.inverse_transform(predictions)\n",
        "  future_price.append(predictions[0][0])"
      ],
      "execution_count": 32,
      "outputs": []
    },
    {
      "cell_type": "code",
      "metadata": {
        "colab": {
          "base_uri": "https://localhost:8080/",
          "height": 197
        },
        "id": "jAF03oyOpOBa",
        "outputId": "0b9315dd-e32a-4ddb-a049-1af7f6e90ed9"
      },
      "source": [
        "df = pd.DataFrame()\n",
        "df['future stock']=future_price\n",
        "df.head()"
      ],
      "execution_count": 33,
      "outputs": [
        {
          "output_type": "execute_result",
          "data": {
            "text/html": [
              "<div>\n",
              "<style scoped>\n",
              "    .dataframe tbody tr th:only-of-type {\n",
              "        vertical-align: middle;\n",
              "    }\n",
              "\n",
              "    .dataframe tbody tr th {\n",
              "        vertical-align: top;\n",
              "    }\n",
              "\n",
              "    .dataframe thead th {\n",
              "        text-align: right;\n",
              "    }\n",
              "</style>\n",
              "<table border=\"1\" class=\"dataframe\">\n",
              "  <thead>\n",
              "    <tr style=\"text-align: right;\">\n",
              "      <th></th>\n",
              "      <th>future stock</th>\n",
              "    </tr>\n",
              "  </thead>\n",
              "  <tbody>\n",
              "    <tr>\n",
              "      <th>0</th>\n",
              "      <td>2755.169434</td>\n",
              "    </tr>\n",
              "    <tr>\n",
              "      <th>1</th>\n",
              "      <td>2737.208252</td>\n",
              "    </tr>\n",
              "    <tr>\n",
              "      <th>2</th>\n",
              "      <td>2706.757324</td>\n",
              "    </tr>\n",
              "    <tr>\n",
              "      <th>3</th>\n",
              "      <td>2669.445068</td>\n",
              "    </tr>\n",
              "    <tr>\n",
              "      <th>4</th>\n",
              "      <td>2628.920166</td>\n",
              "    </tr>\n",
              "  </tbody>\n",
              "</table>\n",
              "</div>"
            ],
            "text/plain": [
              "   future stock\n",
              "0   2755.169434\n",
              "1   2737.208252\n",
              "2   2706.757324\n",
              "3   2669.445068\n",
              "4   2628.920166"
            ]
          },
          "metadata": {
            "tags": []
          },
          "execution_count": 33
        }
      ]
    },
    {
      "cell_type": "markdown",
      "metadata": {
        "id": "9ulRKnuqaKSb"
      },
      "source": [
        "# Decision Tree and Linear Regression"
      ]
    },
    {
      "cell_type": "code",
      "metadata": {
        "id": "m-tVZZ_raVYm"
      },
      "source": [
        "df=df_palladium"
      ],
      "execution_count": 124,
      "outputs": []
    },
    {
      "cell_type": "code",
      "metadata": {
        "id": "ZpIWjEeGs3SQ"
      },
      "source": [
        "future_day=250\n",
        "df['Prediction']=df[['Palladium Index']].shift(-future_day)"
      ],
      "execution_count": 125,
      "outputs": []
    },
    {
      "cell_type": "code",
      "metadata": {
        "id": "pGzeSEqUal0L"
      },
      "source": [
        "x=np.array(df.drop(['Prediction'],1))[:-future_day]"
      ],
      "execution_count": 126,
      "outputs": []
    },
    {
      "cell_type": "code",
      "metadata": {
        "id": "O-OVfUl6aoHH"
      },
      "source": [
        "y=np.array(df['Prediction'])[:-future_day]"
      ],
      "execution_count": 127,
      "outputs": []
    },
    {
      "cell_type": "code",
      "metadata": {
        "id": "m3DZIu1gbpHH"
      },
      "source": [
        "x_train,x_test,y_train,y_test=train_test_split(x,y,test_size=0.20)"
      ],
      "execution_count": 128,
      "outputs": []
    },
    {
      "cell_type": "code",
      "metadata": {
        "id": "yIoyTPJQb28Z"
      },
      "source": [
        "tree=DecisionTreeRegressor().fit(x_train,y_train)\n",
        "linear=LinearRegression().fit(x_train,y_train)\n",
        "x_future=df.drop(['Prediction'],1)[:-future_day]\n",
        "x_future=x_future.tail(future_day)\n",
        "x_future=np.array(x_future)"
      ],
      "execution_count": 129,
      "outputs": []
    },
    {
      "cell_type": "code",
      "metadata": {
        "id": "D7BRMAP2eB07"
      },
      "source": [
        "tree_prediction=tree.predict(x_future)\n",
        "linear_prediction=linear.predict(x_future)"
      ],
      "execution_count": 130,
      "outputs": []
    },
    {
      "cell_type": "code",
      "metadata": {
        "colab": {
          "base_uri": "https://localhost:8080/",
          "height": 535
        },
        "id": "9mvpjxQoehfq",
        "outputId": "e60cb31d-16a0-4e69-992c-4c52182191c1"
      },
      "source": [
        "predictions=tree_prediction\n",
        "valid=df[x.shape[0]:]\n",
        "valid['Predictions']=predictions\n",
        "plt.figure(figsize(16,8))\n",
        "plt.plot(df['Palladium Index'])\n",
        "plt.plot(valid)\n",
        "plt.xlabel(\"year\",color=\"blue\",fontsize=14)\n",
        "plt.ylabel('Palladium Price',color=\"blue\",fontsize=14)\n",
        "plt.title('Palladium Price Prediction - Decision Tree Model',color=\"blue\",fontsize=14)\n",
        "plt.legend(['Train','Test','Predictions'],loc='lower right')"
      ],
      "execution_count": 131,
      "outputs": [
        {
          "output_type": "execute_result",
          "data": {
            "text/plain": [
              "<matplotlib.legend.Legend at 0x7fa3afadf3d0>"
            ]
          },
          "metadata": {
            "tags": []
          },
          "execution_count": 131
        },
        {
          "output_type": "display_data",
          "data": {
            "image/png": "[encoded data removed]",
            "text/plain": [
              "<Figure size 1152x576 with 1 Axes>"
            ]
          },
          "metadata": {
            "tags": [],
            "needs_background": "light"
          }
        }
      ]
    },
    {
      "cell_type": "code",
      "metadata": {
        "colab": {
          "base_uri": "https://localhost:8080/"
        },
        "id": "gjah-_iSf83b",
        "outputId": "db474e55-4625-487e-b479-02c3f2145d8d"
      },
      "source": [
        "#see how the model performed\n",
        "yy=df['Prediction'][-500:-250]\n",
        "rmse=np.sqrt(np.mean(((predictions- yy)**2)))\n",
        "rmse"
      ],
      "execution_count": 133,
      "outputs": [
        {
          "output_type": "execute_result",
          "data": {
            "text/plain": [
              "67.52965798817583"
            ]
          },
          "metadata": {
            "tags": []
          },
          "execution_count": 133
        }
      ]
    },
    {
      "cell_type": "code",
      "metadata": {
        "colab": {
          "base_uri": "https://localhost:8080/"
        },
        "id": "wvk5jOKrf83c",
        "outputId": "682f67e7-dfd7-4e36-f368-7a0fe1533e7d"
      },
      "source": [
        "from sklearn.metrics import r2_score\n",
        "r2_score(yy, predictions)"
      ],
      "execution_count": 134,
      "outputs": [
        {
          "output_type": "execute_result",
          "data": {
            "text/plain": [
              "0.9058711293267944"
            ]
          },
          "metadata": {
            "tags": []
          },
          "execution_count": 134
        }
      ]
    },
    {
      "cell_type": "code",
      "metadata": {
        "colab": {
          "base_uri": "https://localhost:8080/",
          "height": 535
        },
        "id": "rjP_SylqfWoG",
        "outputId": "f9b98dc6-ae6e-4bbe-eff5-ea2a340d5376"
      },
      "source": [
        "predictions=linear_prediction\n",
        "valid=df[x.shape[0]:]\n",
        "valid['Predictions']=predictions\n",
        "plt.figure(figsize(16,8))\n",
        "plt.plot(df['Palladium Index'])\n",
        "plt.plot(valid)\n",
        "plt.xlabel(\"year\",color=\"red\",fontsize=14)\n",
        "plt.ylabel('Palladium Price',color=\"red\",fontsize=14)\n",
        "plt.title('Palladium Price Prediction - Linear Regression Model',color=\"red\",fontsize=14)\n",
        "plt.legend(['Train','Test','Predictions'],loc='lower right')"
      ],
      "execution_count": 135,
      "outputs": [
        {
          "output_type": "execute_result",
          "data": {
            "text/plain": [
              "<matplotlib.legend.Legend at 0x7fa3afae7d50>"
            ]
          },
          "metadata": {
            "tags": []
          },
          "execution_count": 135
        },
        {
          "output_type": "display_data",
          "data": {
            "image/png": "[encoded data removed]",
            "text/plain": [
              "<Figure size 1152x576 with 1 Axes>"
            ]
          },
          "metadata": {
            "tags": [],
            "needs_background": "light"
          }
        }
      ]
    },
    {
      "cell_type": "code",
      "metadata": {
        "colab": {
          "base_uri": "https://localhost:8080/"
        },
        "id": "v9enCUlxf7tB",
        "outputId": "3ae31b2f-fc27-4f1a-81ce-02425c79d454"
      },
      "source": [
        "yy=df['Prediction'][-500:-250]\n",
        "#see how the model performed\n",
        "rmse=np.sqrt(np.mean(((predictions- yy)**2)))\n",
        "rmse"
      ],
      "execution_count": 137,
      "outputs": [
        {
          "output_type": "execute_result",
          "data": {
            "text/plain": [
              "373.13436099194934"
            ]
          },
          "metadata": {
            "tags": []
          },
          "execution_count": 137
        }
      ]
    },
    {
      "cell_type": "code",
      "metadata": {
        "colab": {
          "base_uri": "https://localhost:8080/"
        },
        "id": "gqB30N4wf7tE",
        "outputId": "8e37b445-3218-45d9-b6d9-cad20cc0c5f7"
      },
      "source": [
        "from sklearn.metrics import r2_score\n",
        "r2_score(yy, predictions)"
      ],
      "execution_count": 138,
      "outputs": [
        {
          "output_type": "execute_result",
          "data": {
            "text/plain": [
              "-1.873850921425677"
            ]
          },
          "metadata": {
            "tags": []
          },
          "execution_count": 138
        }
      ]
    },
    {
      "cell_type": "code",
      "metadata": {
        "id": "mADxYaq0uNw-"
      },
      "source": [
        ""
      ],
      "execution_count": 138,
      "outputs": []
    }
  ]
}